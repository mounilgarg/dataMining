{
  "nbformat": 4,
  "nbformat_minor": 0,
  "metadata": {
    "colab": {
      "name": "Androsensor3.ipynb",
      "provenance": [],
      "authorship_tag": "ABX9TyOqTvHYu5hnziN85+0o2/Yl",
      "include_colab_link": true
    },
    "kernelspec": {
      "name": "python3",
      "display_name": "Python 3"
    },
    "language_info": {
      "name": "python"
    }
  },
  "cells": [
    {
      "cell_type": "markdown",
      "metadata": {
        "id": "view-in-github",
        "colab_type": "text"
      },
      "source": [
        "<a href=\"https://colab.research.google.com/github/mounilgarg/dataMining/blob/main/Androsensor3.ipynb\" target=\"_parent\"><img src=\"https://colab.research.google.com/assets/colab-badge.svg\" alt=\"Open In Colab\"/></a>"
      ]
    },
    {
      "cell_type": "code",
      "execution_count": 11,
      "metadata": {
        "colab": {
          "base_uri": "https://localhost:8080/"
        },
        "id": "4UvMoziWCL2w",
        "outputId": "842c8acf-7e06-4d1b-c918-f81c7ca51422"
      },
      "outputs": [
        {
          "output_type": "stream",
          "name": "stdout",
          "text": [
            "Drive already mounted at /content/drive; to attempt to forcibly remount, call drive.mount(\"/content/drive\", force_remount=True).\n"
          ]
        }
      ],
      "source": [
        "from google.colab import drive\n",
        "drive.mount('/content/drive')"
      ]
    },
    {
      "cell_type": "code",
      "source": [
        "import csv\n",
        "import numpy as np\n",
        "import matplotlib.pyplot as plt \n",
        "import pandas as pd\n",
        "from collections import defaultdict"
      ],
      "metadata": {
        "id": "faJGvEX5CNbO"
      },
      "execution_count": 12,
      "outputs": []
    },
    {
      "cell_type": "code",
      "source": [
        "strolling=pd.read_csv('/content/drive/MyDrive/csvData/strolling_loc.csv')\n",
        "strolling.head()\n",
        "# print(strolling)"
      ],
      "metadata": {
        "colab": {
          "base_uri": "https://localhost:8080/",
          "height": 389
        },
        "id": "Uwxw2o0eCdsG",
        "outputId": "945dc7f2-a65c-41e0-e699-e231aa512af6"
      },
      "execution_count": 13,
      "outputs": [
        {
          "output_type": "execute_result",
          "data": {
            "text/plain": [
              "   ACCELEROMETER X (m/s²)  ACCELEROMETER Y (m/s²)  ACCELEROMETER Z (m/s²)  \\\n",
              "0                 0.16281                 6.07648                 7.70454   \n",
              "1                11.98537                 0.63207                -6.40210   \n",
              "2                 3.60567                -2.28886                 2.59053   \n",
              "3                 6.37337                -7.58483                -1.29766   \n",
              "4                 6.37815                -7.25443                -1.53708   \n",
              "\n",
              "   SOUND LEVEL (dB)  LOCATION Latitude :   LOCATION Longitude :   \\\n",
              "0           42.1352             30.752634              76.756840   \n",
              "1           53.6647             30.752605              76.756874   \n",
              "2           42.1967             30.752630              76.756860   \n",
              "3           58.5134             30.752583              76.756780   \n",
              "4           57.6755             30.752583              76.756780   \n",
              "\n",
              "   LOCATION Altitude ( m)  LOCATION Altitude-google ( m)  \\\n",
              "0                1011.935                            NaN   \n",
              "1                 958.065                            NaN   \n",
              "2                 977.419                            NaN   \n",
              "3                 958.065                            NaN   \n",
              "4                 958.065                            NaN   \n",
              "\n",
              "   LOCATION Speed ( Kmh)  LOCATION Accuracy ( m)  LOCATION ORIENTATION (°)  \\\n",
              "0                    NaN               43.054840                       NaN   \n",
              "1                  8.316               48.387096                     181.0   \n",
              "2                 10.296               75.806450                     174.0   \n",
              "3                  0.216               12.903226                     111.2   \n",
              "4                  0.000               11.290322                       0.0   \n",
              "\n",
              "  Satellites in range  Time since start in ms   YYYY-MO-DD HH-MI-SS_SSS  \n",
              "0               0 / 0                       22  2022-05-24 23:20:43:215  \n",
              "1              6 / 15                    50023  2022-05-24 23:21:33:216  \n",
              "2              0 / 13                   100022  2022-05-24 23:22:23:215  \n",
              "3             18 / 25                   150022  2022-05-24 23:23:13:215  \n",
              "4             16 / 20                   200022  2022-05-24 23:24:03:215  "
            ],
            "text/html": [
              "\n",
              "  <div id=\"df-c62003e1-2894-48fc-9d32-c776fd85a1a0\">\n",
              "    <div class=\"colab-df-container\">\n",
              "      <div>\n",
              "<style scoped>\n",
              "    .dataframe tbody tr th:only-of-type {\n",
              "        vertical-align: middle;\n",
              "    }\n",
              "\n",
              "    .dataframe tbody tr th {\n",
              "        vertical-align: top;\n",
              "    }\n",
              "\n",
              "    .dataframe thead th {\n",
              "        text-align: right;\n",
              "    }\n",
              "</style>\n",
              "<table border=\"1\" class=\"dataframe\">\n",
              "  <thead>\n",
              "    <tr style=\"text-align: right;\">\n",
              "      <th></th>\n",
              "      <th>ACCELEROMETER X (m/s²)</th>\n",
              "      <th>ACCELEROMETER Y (m/s²)</th>\n",
              "      <th>ACCELEROMETER Z (m/s²)</th>\n",
              "      <th>SOUND LEVEL (dB)</th>\n",
              "      <th>LOCATION Latitude :</th>\n",
              "      <th>LOCATION Longitude :</th>\n",
              "      <th>LOCATION Altitude ( m)</th>\n",
              "      <th>LOCATION Altitude-google ( m)</th>\n",
              "      <th>LOCATION Speed ( Kmh)</th>\n",
              "      <th>LOCATION Accuracy ( m)</th>\n",
              "      <th>LOCATION ORIENTATION (°)</th>\n",
              "      <th>Satellites in range</th>\n",
              "      <th>Time since start in ms</th>\n",
              "      <th>YYYY-MO-DD HH-MI-SS_SSS</th>\n",
              "    </tr>\n",
              "  </thead>\n",
              "  <tbody>\n",
              "    <tr>\n",
              "      <th>0</th>\n",
              "      <td>0.16281</td>\n",
              "      <td>6.07648</td>\n",
              "      <td>7.70454</td>\n",
              "      <td>42.1352</td>\n",
              "      <td>30.752634</td>\n",
              "      <td>76.756840</td>\n",
              "      <td>1011.935</td>\n",
              "      <td>NaN</td>\n",
              "      <td>NaN</td>\n",
              "      <td>43.054840</td>\n",
              "      <td>NaN</td>\n",
              "      <td>0 / 0</td>\n",
              "      <td>22</td>\n",
              "      <td>2022-05-24 23:20:43:215</td>\n",
              "    </tr>\n",
              "    <tr>\n",
              "      <th>1</th>\n",
              "      <td>11.98537</td>\n",
              "      <td>0.63207</td>\n",
              "      <td>-6.40210</td>\n",
              "      <td>53.6647</td>\n",
              "      <td>30.752605</td>\n",
              "      <td>76.756874</td>\n",
              "      <td>958.065</td>\n",
              "      <td>NaN</td>\n",
              "      <td>8.316</td>\n",
              "      <td>48.387096</td>\n",
              "      <td>181.0</td>\n",
              "      <td>6 / 15</td>\n",
              "      <td>50023</td>\n",
              "      <td>2022-05-24 23:21:33:216</td>\n",
              "    </tr>\n",
              "    <tr>\n",
              "      <th>2</th>\n",
              "      <td>3.60567</td>\n",
              "      <td>-2.28886</td>\n",
              "      <td>2.59053</td>\n",
              "      <td>42.1967</td>\n",
              "      <td>30.752630</td>\n",
              "      <td>76.756860</td>\n",
              "      <td>977.419</td>\n",
              "      <td>NaN</td>\n",
              "      <td>10.296</td>\n",
              "      <td>75.806450</td>\n",
              "      <td>174.0</td>\n",
              "      <td>0 / 13</td>\n",
              "      <td>100022</td>\n",
              "      <td>2022-05-24 23:22:23:215</td>\n",
              "    </tr>\n",
              "    <tr>\n",
              "      <th>3</th>\n",
              "      <td>6.37337</td>\n",
              "      <td>-7.58483</td>\n",
              "      <td>-1.29766</td>\n",
              "      <td>58.5134</td>\n",
              "      <td>30.752583</td>\n",
              "      <td>76.756780</td>\n",
              "      <td>958.065</td>\n",
              "      <td>NaN</td>\n",
              "      <td>0.216</td>\n",
              "      <td>12.903226</td>\n",
              "      <td>111.2</td>\n",
              "      <td>18 / 25</td>\n",
              "      <td>150022</td>\n",
              "      <td>2022-05-24 23:23:13:215</td>\n",
              "    </tr>\n",
              "    <tr>\n",
              "      <th>4</th>\n",
              "      <td>6.37815</td>\n",
              "      <td>-7.25443</td>\n",
              "      <td>-1.53708</td>\n",
              "      <td>57.6755</td>\n",
              "      <td>30.752583</td>\n",
              "      <td>76.756780</td>\n",
              "      <td>958.065</td>\n",
              "      <td>NaN</td>\n",
              "      <td>0.000</td>\n",
              "      <td>11.290322</td>\n",
              "      <td>0.0</td>\n",
              "      <td>16 / 20</td>\n",
              "      <td>200022</td>\n",
              "      <td>2022-05-24 23:24:03:215</td>\n",
              "    </tr>\n",
              "  </tbody>\n",
              "</table>\n",
              "</div>\n",
              "      <button class=\"colab-df-convert\" onclick=\"convertToInteractive('df-c62003e1-2894-48fc-9d32-c776fd85a1a0')\"\n",
              "              title=\"Convert this dataframe to an interactive table.\"\n",
              "              style=\"display:none;\">\n",
              "        \n",
              "  <svg xmlns=\"http://www.w3.org/2000/svg\" height=\"24px\"viewBox=\"0 0 24 24\"\n",
              "       width=\"24px\">\n",
              "    <path d=\"M0 0h24v24H0V0z\" fill=\"none\"/>\n",
              "    <path d=\"M18.56 5.44l.94 2.06.94-2.06 2.06-.94-2.06-.94-.94-2.06-.94 2.06-2.06.94zm-11 1L8.5 8.5l.94-2.06 2.06-.94-2.06-.94L8.5 2.5l-.94 2.06-2.06.94zm10 10l.94 2.06.94-2.06 2.06-.94-2.06-.94-.94-2.06-.94 2.06-2.06.94z\"/><path d=\"M17.41 7.96l-1.37-1.37c-.4-.4-.92-.59-1.43-.59-.52 0-1.04.2-1.43.59L10.3 9.45l-7.72 7.72c-.78.78-.78 2.05 0 2.83L4 21.41c.39.39.9.59 1.41.59.51 0 1.02-.2 1.41-.59l7.78-7.78 2.81-2.81c.8-.78.8-2.07 0-2.86zM5.41 20L4 18.59l7.72-7.72 1.47 1.35L5.41 20z\"/>\n",
              "  </svg>\n",
              "      </button>\n",
              "      \n",
              "  <style>\n",
              "    .colab-df-container {\n",
              "      display:flex;\n",
              "      flex-wrap:wrap;\n",
              "      gap: 12px;\n",
              "    }\n",
              "\n",
              "    .colab-df-convert {\n",
              "      background-color: #E8F0FE;\n",
              "      border: none;\n",
              "      border-radius: 50%;\n",
              "      cursor: pointer;\n",
              "      display: none;\n",
              "      fill: #1967D2;\n",
              "      height: 32px;\n",
              "      padding: 0 0 0 0;\n",
              "      width: 32px;\n",
              "    }\n",
              "\n",
              "    .colab-df-convert:hover {\n",
              "      background-color: #E2EBFA;\n",
              "      box-shadow: 0px 1px 2px rgba(60, 64, 67, 0.3), 0px 1px 3px 1px rgba(60, 64, 67, 0.15);\n",
              "      fill: #174EA6;\n",
              "    }\n",
              "\n",
              "    [theme=dark] .colab-df-convert {\n",
              "      background-color: #3B4455;\n",
              "      fill: #D2E3FC;\n",
              "    }\n",
              "\n",
              "    [theme=dark] .colab-df-convert:hover {\n",
              "      background-color: #434B5C;\n",
              "      box-shadow: 0px 1px 3px 1px rgba(0, 0, 0, 0.15);\n",
              "      filter: drop-shadow(0px 1px 2px rgba(0, 0, 0, 0.3));\n",
              "      fill: #FFFFFF;\n",
              "    }\n",
              "  </style>\n",
              "\n",
              "      <script>\n",
              "        const buttonEl =\n",
              "          document.querySelector('#df-c62003e1-2894-48fc-9d32-c776fd85a1a0 button.colab-df-convert');\n",
              "        buttonEl.style.display =\n",
              "          google.colab.kernel.accessAllowed ? 'block' : 'none';\n",
              "\n",
              "        async function convertToInteractive(key) {\n",
              "          const element = document.querySelector('#df-c62003e1-2894-48fc-9d32-c776fd85a1a0');\n",
              "          const dataTable =\n",
              "            await google.colab.kernel.invokeFunction('convertToInteractive',\n",
              "                                                     [key], {});\n",
              "          if (!dataTable) return;\n",
              "\n",
              "          const docLinkHtml = 'Like what you see? Visit the ' +\n",
              "            '<a target=\"_blank\" href=https://colab.research.google.com/notebooks/data_table.ipynb>data table notebook</a>'\n",
              "            + ' to learn more about interactive tables.';\n",
              "          element.innerHTML = '';\n",
              "          dataTable['output_type'] = 'display_data';\n",
              "          await google.colab.output.renderOutput(dataTable, element);\n",
              "          const docLink = document.createElement('div');\n",
              "          docLink.innerHTML = docLinkHtml;\n",
              "          element.appendChild(docLink);\n",
              "        }\n",
              "      </script>\n",
              "    </div>\n",
              "  </div>\n",
              "  "
            ]
          },
          "metadata": {},
          "execution_count": 13
        }
      ]
    },
    {
      "cell_type": "code",
      "source": [
        "print(strolling.columns)\n",
        "print(strolling['LOCATION Latitude : '][0])"
      ],
      "metadata": {
        "id": "vTHdMc6AFsqA",
        "outputId": "106937fb-83da-4bc1-9c09-b3375bb69c4a",
        "colab": {
          "base_uri": "https://localhost:8080/"
        }
      },
      "execution_count": 19,
      "outputs": [
        {
          "output_type": "stream",
          "name": "stdout",
          "text": [
            "Index(['ACCELEROMETER X (m/s²)', 'ACCELEROMETER Y (m/s²)',\n",
            "       'ACCELEROMETER Z (m/s²)', 'SOUND LEVEL (dB)', 'LOCATION Latitude : ',\n",
            "       'LOCATION Longitude : ', 'LOCATION Altitude ( m)',\n",
            "       'LOCATION Altitude-google ( m)', 'LOCATION Speed ( Kmh)',\n",
            "       'LOCATION Accuracy ( m)', 'LOCATION ORIENTATION (°)',\n",
            "       'Satellites in range', 'Time since start in ms ',\n",
            "       'YYYY-MO-DD HH-MI-SS_SSS'],\n",
            "      dtype='object')\n",
            "30.752634\n"
          ]
        }
      ]
    },
    {
      "cell_type": "code",
      "source": [
        "from math import radians, cos, sin, asin, sqrt\n",
        "\n",
        "def haversine(lat1, lon1, lat2, lon2):\n",
        "\n",
        "      R = 3959.87433 # this is in miles.  For Earth radius in kilometers use 6372.8 km\n",
        "\n",
        "      dLat = radians(lat2 - lat1)\n",
        "      dLon = radians(lon2 - lon1)\n",
        "      lat1 = radians(lat1)\n",
        "      lat2 = radians(lat2)\n",
        "\n",
        "      a = sin(dLat/2)**2 + cos(lat1)*cos(lat2)*sin(dLon/2)**2\n",
        "      c = 2*asin(sqrt(a))\n",
        "\n",
        "      return R * c\n",
        "\n",
        "# Usage\n",
        "lon1 = strolling['LOCATION Longitude : '][0]\n",
        "lat1 = strolling['LOCATION Latitude : '][0]\n",
        "lon2 = strolling['LOCATION Longitude : '][len(strolling)-1]\n",
        "lat2 = strolling['LOCATION Latitude : '][len(strolling)-1]\n",
        "\n",
        "totalDist=(haversine(lat1, lon1, lat2, lon2))/(len(strolling))\n",
        "print(totalDist)"
      ],
      "metadata": {
        "colab": {
          "base_uri": "https://localhost:8080/"
        },
        "id": "b7TkYrb_DdZI",
        "outputId": "fd78297f-e522-49d0-ec07-6c7c95402c95"
      },
      "execution_count": 20,
      "outputs": [
        {
          "output_type": "stream",
          "name": "stdout",
          "text": [
            "0.0010725464674998582\n"
          ]
        }
      ]
    },
    {
      "cell_type": "code",
      "source": [
        "dist=list()\n",
        "for i in range(0,len(strolling)-1):\n",
        "  lon1 = strolling['LOCATION Longitude : '][i]\n",
        "  lat1 = strolling['LOCATION Latitude : '][i]\n",
        "  lon2 = strolling['LOCATION Longitude : '][i+1]\n",
        "  lat2 = strolling['LOCATION Latitude : '][i+1]\n",
        "\n",
        "  dist.append(haversine(lat1, lon1, lat2, lon2))\n",
        "dist=np.array(dist)\n",
        "print(sum(dist))\n",
        "# print(totalDist)"
      ],
      "metadata": {
        "colab": {
          "base_uri": "https://localhost:8080/"
        },
        "id": "VT2tZzWjHj2g",
        "outputId": "c1ee7678-6f06-4f93-c6bf-d1f6c5cfc563"
      },
      "execution_count": 24,
      "outputs": [
        {
          "output_type": "stream",
          "name": "stdout",
          "text": [
            "0.12584886374647233\n"
          ]
        }
      ]
    }
  ]
}